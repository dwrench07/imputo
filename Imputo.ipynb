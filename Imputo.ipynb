{
 "cells": [
  {
   "cell_type": "code",
   "execution_count": 64,
   "metadata": {
    "collapsed": true
   },
   "outputs": [],
   "source": [
    "from scipy.stats import ks_2samp, norm"
   ]
  },
  {
   "cell_type": "code",
   "execution_count": 65,
   "metadata": {},
   "outputs": [],
   "source": [
    "rvs1 = norm.rvs(size=200, loc=0.0, scale=1.0)\n",
    "rvs2 = norm.rvs(size=300, loc=0.5, scale=1.5)\n",
    "rvs3 = norm.rvs(size=300, loc=0.01, scale=1.0)\n",
    "rvs4 = norm.rvs(size=300, loc=0.0, scale=1.0)"
   ]
  },
  {
   "cell_type": "code",
   "execution_count": 66,
   "metadata": {},
   "outputs": [
    {
     "name": "stdout",
     "output_type": "stream",
     "text": [
      "statistic = 0.29\npvalue = 1e-09\n"
     ]
    }
   ],
   "source": [
    "s, p = ks_2samp(rvs1, rvs2)\n",
    "print(\"statistic = {:.2}\\npvalue = {:.2}\".format(s, p))"
   ]
  },
  {
   "cell_type": "markdown",
   "metadata": {},
   "source": [
    "For a different distribution, we **can reject** the null hypothesis since the pvalue is below 0.01 or 1%."
   ]
  },
  {
   "cell_type": "code",
   "execution_count": 67,
   "metadata": {
    "collapsed": true
   },
   "outputs": [
    {
     "name": "stdout",
     "output_type": "stream",
     "text": [
      "statistic = 0.067\npvalue = 0.65\n"
     ]
    }
   ],
   "source": [
    "s, p = ks_2samp(rvs1, rvs3)\n",
    "print(\"statistic = {:.2}\\npvalue = {:.2}\".format(s, p))"
   ]
  },
  {
   "cell_type": "markdown",
   "metadata": {},
   "source": [
    "For a slightly different distribution, we **cannot reject** the null hypothesisat a 0.1 (10%) or lower alpha since the p-value is higher than 0.1 or 10%."
   ]
  },
  {
   "cell_type": "code",
   "execution_count": 68,
   "metadata": {},
   "outputs": [
    {
     "name": "stdout",
     "output_type": "stream",
     "text": [
      "statistic = 0.055\npvalue = 0.85\n"
     ]
    }
   ],
   "source": [
    "s, p = ks_2samp(rvs1, rvs4)\n",
    "print(\"statistic = {:.2}\\npvalue = {:.2}\".format(s, p))"
   ]
  },
  {
   "cell_type": "markdown",
   "metadata": {},
   "source": [
    "For an identical distribution, we cannot reject the null hypothesis since the p-value is high"
   ]
  },
  {
   "cell_type": "code",
   "execution_count": null,
   "metadata": {},
   "outputs": [],
   "source": [
    ""
   ]
  }
 ],
 "metadata": {
  "kernelspec": {
   "display_name": "Python 2",
   "language": "python",
   "name": "python2"
  },
  "language_info": {
   "codemirror_mode": {
    "name": "ipython",
    "version": 2.0
   },
   "file_extension": ".py",
   "mimetype": "text/x-python",
   "name": "python",
   "nbconvert_exporter": "python",
   "pygments_lexer": "ipython2",
   "version": "2.7.6"
  }
 },
 "nbformat": 4,
 "nbformat_minor": 0
}